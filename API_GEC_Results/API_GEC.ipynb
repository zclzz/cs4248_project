{
 "cells": [
  {
   "cell_type": "code",
   "execution_count": 5,
   "metadata": {},
   "outputs": [
    {
     "name": "stdout",
     "output_type": "stream",
     "text": [
      "Collecting sapling-py\n",
      "  Downloading sapling-py-4.0.1.tar.gz (12 kB)\n",
      "  Installing build dependencies ... \u001b[?25ldone\n",
      "\u001b[?25h  Getting requirements to build wheel ... \u001b[?25ldone\n",
      "\u001b[?25h  Installing backend dependencies ... \u001b[?25ldone\n",
      "\u001b[?25h  Preparing metadata (pyproject.toml) ... \u001b[?25ldone\n",
      "\u001b[?25hRequirement already satisfied: requests in /home/seebase/CS4248/.venv/lib/python3.10/site-packages (from sapling-py) (2.31.0)\n",
      "Requirement already satisfied: charset-normalizer<4,>=2 in /home/seebase/CS4248/.venv/lib/python3.10/site-packages (from requests->sapling-py) (3.3.2)\n",
      "Requirement already satisfied: idna<4,>=2.5 in /home/seebase/CS4248/.venv/lib/python3.10/site-packages (from requests->sapling-py) (3.6)\n",
      "Requirement already satisfied: urllib3<3,>=1.21.1 in /home/seebase/CS4248/.venv/lib/python3.10/site-packages (from requests->sapling-py) (2.2.0)\n",
      "Requirement already satisfied: certifi>=2017.4.17 in /home/seebase/CS4248/.venv/lib/python3.10/site-packages (from requests->sapling-py) (2024.2.2)\n",
      "Building wheels for collected packages: sapling-py\n",
      "  Building wheel for sapling-py (pyproject.toml) ... \u001b[?25ldone\n",
      "\u001b[?25h  Created wheel for sapling-py: filename=sapling_py-4.0.1-py3-none-any.whl size=11696 sha256=fac93bdcb1679c8b8a9c1d0b1c048f7e673bae4cdea03ad1196d138fd2eef4a1\n",
      "  Stored in directory: /home/seebase/.cache/pip/wheels/aa/a2/c2/8ef39987a85582631a2e996a1e5f6712a7612931872c7fa023\n",
      "Successfully built sapling-py\n",
      "Installing collected packages: sapling-py\n",
      "Successfully installed sapling-py-4.0.1\n",
      "Note: you may need to restart the kernel to use updated packages.\n"
     ]
    }
   ],
   "source": [
    "%pip install sapling-py"
   ]
  },
  {
   "cell_type": "code",
   "execution_count": 7,
   "metadata": {},
   "outputs": [],
   "source": [
    "import json\n",
    "from sapling import SaplingClient\n",
    "\n",
    "api_key = 'OG8C15SQDMRTZVA3ODNX1Z1P7H7T7T2F'\n",
    "client = SaplingClient(api_key=api_key)\n",
    "edit1 = client.edits('I would like to study Psychology because one day I would open my own psychology office and help people .', session_id='test_session1')\n",
    "edit2 = client.edits(\"If we think about it the car is better because we don't need to wait for them has we are waiting for the bus or underground but in another way car cust more money than the public transport .\", session_id='test_session2')\n",
    "\n",
    "# Function to print the dictionary object in JSON format\n",
    "def print_json_formatted(dict_obj):\n",
    "    # print(json.dumps(dict_obj, indent=2))\n",
    "    return json.dumps(dict_obj, indent=2)\n",
    "\n",
    "# print_json_formatted(edit1)\n",
    "edits_json = print_json_formatted(edit2)"
   ]
  },
  {
   "cell_type": "code",
   "execution_count": 10,
   "metadata": {},
   "outputs": [
    {
     "name": "stdout",
     "output_type": "stream",
     "text": [
      "If we think about it the car is better because we don't need to wait for them has we are waiting for the bus or underground but in another way car cust more money than the public transport .\n"
     ]
    }
   ],
   "source": [
    "edits_json = json.loads(edits_json)\n",
    "print(edits_json['edits'][0]['sentence'])"
   ]
  },
  {
   "cell_type": "code",
   "execution_count": 11,
   "metadata": {},
   "outputs": [
    {
     "name": "stdout",
     "output_type": "stream",
     "text": [
      "Corrected sentence: If we think about it the car is better because we don't need to wait for them as we are waiting for the bus or underground but in another way cars cost more money than public transport .\n"
     ]
    }
   ],
   "source": [
    "# Function to apply edits to the sentence\n",
    "def apply_edits(sentence, edits):\n",
    "    # Sort edits by start position in reverse order\n",
    "    edits_sorted = sorted(edits, key=lambda x: x['start'], reverse=True)\n",
    "    for edit in edits_sorted:\n",
    "        start, end = edit['start'], edit['end']\n",
    "        replacement = edit['replacement']\n",
    "        sentence = sentence[:start] + replacement + sentence[end:]\n",
    "    return sentence\n",
    "\n",
    "# Original sentence to be corrected\n",
    "original_sentence = edits_json['edits'][0]['sentence']  # Assuming all edits are for the same sentence\n",
    "\n",
    "# Apply the edits to the original sentence\n",
    "corrected_sentence = apply_edits(original_sentence, edits_json['edits'])\n",
    "\n",
    "# Print the corrected sentence\n",
    "print(\"Corrected sentence:\", corrected_sentence)"
   ]
  },
  {
   "cell_type": "code",
   "execution_count": 10,
   "metadata": {},
   "outputs": [
    {
     "name": "stdout",
     "output_type": "stream",
     "text": [
      "csv read\n",
      "Unfortunately, the music was a bit too loud for my taste.\n",
      "She is very brave , it doesn't matter how difficult the problem is , the most important thing is to carry on .\n",
      "Television provides educated varieties of channels as well .\n",
      "Cohen's knowledge is that playing the lottery is not automatically irrational.\n",
      "Let me know your opinion whenever you are ready ,\n",
      "When I was in Bali , I had a great night that I always remember .\n",
      "It is suitable for 68976 people .\n",
      "All my yoga lessons and massage sessions are conducted in line with the Correct Approach to Spine ( CAS) method, so they are very safe and based on scientific reasons.\n",
      "All the best.\n",
      "I was part of the team!\n",
      "All this to be in your perfectly healthy body.\n",
      "Not only can foreign languages become a huge advantage to me , it can also bring me satisfaction and gratification .\n",
      "I 'm a worker and I like children .\n",
      "I am very lucky because not far from my home there are three parks so I can practise this sport whenever I want .\n",
      "Although the heat in the kitchen could burn us , the smile on the customers gives the best courage .\n",
      "I live in a small city in the middle of Vietnam .\n",
      "The arena could hold about 70000 seats, and the arena was about 75 x 46 meters and about 50 meters high .\n",
      "from\n",
      "I got cold feet and I couldn't understand what was happening .\n",
      "Despite this, travelling by public transport can be a better option in so many cases.\n",
      "Hi , Jenny\n",
      "Without a doubt , this valuable experience let me know the importance of taking responsibility for my own learning .\n",
      "I 'll write soon !\n",
      "I agree with this point .\n",
      "Her parents and her sister are still looking for her .\n",
      "In the following days , we mostly had bread and sandwiches for our meals .\n",
      "Everyone will love the appetizers and main courses served there .\n",
      "In addition to that , I love children and I usually look after four children , aged from seven to eleven , every Saturday .\n",
      "cars are handy and driving can be pleasant , but only when the driver is in good mood , with no traffic jams or craters on the road ( really common situations in Brazil ) .\n",
      "I knew it was the beginning of a great friendship .\n",
      "Although the Brazilians have a shorter personal space in comparison with the United States , they are no tolerant of strangers invading it .\n",
      "Once upon a time a mason called Nick that had a family of four , two sons and his wife but they had conflicts with the studies of their children , the money he earned was not enough to maintain the whole family they were in poverty .\n",
      "So these are the advice that I give to them .\n",
      "When I went back , a policeman asked him not to smoke , so he was angry during the whole flight .\n",
      "Dear friend ,\n",
      "Joey is ... well, he's Joey: not so clever, a great one for the girls and - most importantly - Chandler's best friend.\n",
      "Britain alone escaped almost unscathed from these years of unrest.\n",
      "This job in Development would enable me to transfer my learned proficiency into practice in your company .\n",
      "There 's a pleasant historical centre and a monumental castle placed on a big rock.\n",
      "Thank you so much!\n",
      "I hope your arrival was successful and you have been enjoying our town .\n",
      "On one hand you put all your things in the car and drive anywhere you want to , on the other hand if you feel not very well to drive , you have no money to buy a car or the downtown of your city is closed for all the means of transport except for the public ones : tram , bus or trolley bus is your wayout .\n",
      "Topic : A Horrible Nightmare\n",
      "Two hours later they were in the room of urgency of Cáceres Hospital and the doctors were curing Jon 's leg .\n",
      "Every Monday there is a street market in the central square .\n",
      "What is more , parents always consider their child best .\n",
      "I think the best teacher is a person who has professional knowledge and good teaching skills .\n",
      "Once upon a time a boy was six years old .\n",
      "We have a lot of nice old towns .\n",
      "another option :\n",
      "We all walk down the same path because this is how it is meant to be .\n",
      "Another key factor was the coach , who knew how to convey the skills and techniques to children .\n",
      "Unfortunately, Agatha can't find sufficient trials to understand the guilt.\n",
      "First of all, I want to sincerely thank you for the opportunistic offer to prove quick ways to begin saving environmental resources.\n",
      "The door opened .\n",
      "Some experience so easily and often .\n",
      "In my opinion , the biggest problem with buses is that they are becoming very degraded , and in desperate need of repair .\n",
      "The internet has caused me depression once , I felt really alone and I used to be someone who I wasn't in the real life , but I learned how to deal with it .\n",
      "\" I can't \"\n",
      "Response : I am seeking a salary in the € 40000 range plus benefits .\n",
      "So that , transportation was one of the most important issues faced by humans , because it is related to the interaction between people like trading and many other purposes .\n",
      "Prior to the automobile, it is the horse and wagon life. It is not feasible for people to live far from their place of work .\n"
     ]
    },
    {
     "ename": "Exception",
     "evalue": "HTTP 429: {\"key_prefix\":\"BTH********************************\",\"msg\":\"Rate Limited. Visit https://sapling.ai/docs/api/api-access for details.\"}\n",
     "output_type": "error",
     "traceback": [
      "\u001b[0;31m---------------------------------------------------------------------------\u001b[0m",
      "\u001b[0;31mException\u001b[0m                                 Traceback (most recent call last)",
      "Cell \u001b[0;32mIn[10], line 61\u001b[0m\n\u001b[1;32m     59\u001b[0m \u001b[38;5;66;03m# Correct sentences and store them\u001b[39;00m\n\u001b[1;32m     60\u001b[0m \u001b[38;5;28;01mfor\u001b[39;00m incorrect_sentence, target_sentence \u001b[38;5;129;01min\u001b[39;00m sentences:\n\u001b[0;32m---> 61\u001b[0m     corrected \u001b[38;5;241m=\u001b[39m \u001b[43mcorrect_sentence\u001b[49m\u001b[43m(\u001b[49m\u001b[43mincorrect_sentence\u001b[49m\u001b[43m)\u001b[49m\n\u001b[1;32m     62\u001b[0m     \u001b[38;5;28mprint\u001b[39m(corrected)\n\u001b[1;32m     63\u001b[0m     corrected_sentences\u001b[38;5;241m.\u001b[39mappend((target_sentence, corrected))\n",
      "Cell \u001b[0;32mIn[10], line 38\u001b[0m, in \u001b[0;36mcorrect_sentence\u001b[0;34m(sentence)\u001b[0m\n\u001b[1;32m     36\u001b[0m \u001b[38;5;28;01mdef\u001b[39;00m \u001b[38;5;21mcorrect_sentence\u001b[39m(sentence):\n\u001b[1;32m     37\u001b[0m     original_sentence \u001b[38;5;241m=\u001b[39m sentence\n\u001b[0;32m---> 38\u001b[0m     edit \u001b[38;5;241m=\u001b[39m \u001b[43mclient\u001b[49m\u001b[38;5;241;43m.\u001b[39;49m\u001b[43medits\u001b[49m\u001b[43m(\u001b[49m\u001b[43moriginal_sentence\u001b[49m\u001b[43m)\u001b[49m\n\u001b[1;32m     39\u001b[0m     json_edit \u001b[38;5;241m=\u001b[39m json\u001b[38;5;241m.\u001b[39mdumps(edit, indent\u001b[38;5;241m=\u001b[39m\u001b[38;5;241m2\u001b[39m)\n\u001b[1;32m     40\u001b[0m     json_edit1 \u001b[38;5;241m=\u001b[39m json\u001b[38;5;241m.\u001b[39mloads(json_edit)\n",
      "File \u001b[0;32m~/CS4248/.venv/lib/python3.10/site-packages/sapling/client.py:150\u001b[0m, in \u001b[0;36mSaplingClient.edits\u001b[0;34m(self, text, session_id, lang, variety, medical, auto_apply, advanced_edits, user_id, is_anon_user)\u001b[0m\n\u001b[1;32m    148\u001b[0m \u001b[38;5;28;01mif\u001b[39;00m \u001b[38;5;241m200\u001b[39m \u001b[38;5;241m<\u001b[39m\u001b[38;5;241m=\u001b[39m resp\u001b[38;5;241m.\u001b[39mstatus_code \u001b[38;5;241m<\u001b[39m \u001b[38;5;241m300\u001b[39m:\n\u001b[1;32m    149\u001b[0m     \u001b[38;5;28;01mreturn\u001b[39;00m resp\u001b[38;5;241m.\u001b[39mjson()\n\u001b[0;32m--> 150\u001b[0m \u001b[38;5;28;01mraise\u001b[39;00m \u001b[38;5;167;01mException\u001b[39;00m(\u001b[38;5;124mf\u001b[39m\u001b[38;5;124m'\u001b[39m\u001b[38;5;124mHTTP \u001b[39m\u001b[38;5;132;01m{\u001b[39;00mresp\u001b[38;5;241m.\u001b[39mstatus_code\u001b[38;5;132;01m}\u001b[39;00m\u001b[38;5;124m: \u001b[39m\u001b[38;5;132;01m{\u001b[39;00mresp\u001b[38;5;241m.\u001b[39mtext\u001b[38;5;132;01m}\u001b[39;00m\u001b[38;5;124m'\u001b[39m)\n",
      "\u001b[0;31mException\u001b[0m: HTTP 429: {\"key_prefix\":\"BTH********************************\",\"msg\":\"Rate Limited. Visit https://sapling.ai/docs/api/api-access for details.\"}\n"
     ]
    }
   ],
   "source": [
    "import csv\n",
    "import json\n",
    "from sapling import SaplingClient\n",
    "\n",
    "api_key = 'BTHMTM1P6A6AQTJ9V4A729W7T7W9233K'\n",
    "client = SaplingClient(api_key=api_key)\n",
    "\n",
    "# Function to read the first column (incorrect sentences) from a CSV\n",
    "def read_incorrect_sentences_from_csv(file_path):\n",
    "    sentences = []\n",
    "    with open(file_path, mode='r', encoding='utf-8') as file:\n",
    "        reader = csv.reader(file)\n",
    "        next(reader)  # Skip header row if there is one\n",
    "        for row in reader:\n",
    "            sentences.append((row[1], row[0]))  # Assuming the first column has the correct sentences and the second has the incorrect sentences\n",
    "    return sentences\n",
    "\n",
    "# Function to write corrected sentences to a CSV\n",
    "def write_corrected_sentences_to_csv(file_path, sentences):\n",
    "    with open(file_path, mode='w', newline='', encoding='utf-8') as file:\n",
    "        writer = csv.writer(file)\n",
    "        writer.writerow(['Target Sentence', 'Corrected Sentence'])  # Header row\n",
    "        for sentence in sentences:\n",
    "            writer.writerow(sentence)\n",
    "            \n",
    "def apply_edits(sentence, edits):\n",
    "    # Sort edits by start position in reverse order\n",
    "    edits_sorted = sorted(edits, key=lambda x: x['start'], reverse=True)\n",
    "    for edit in edits_sorted:\n",
    "        start, end = edit['start'], edit['end']\n",
    "        replacement = edit['replacement']\n",
    "        sentence = sentence[:start] + replacement + sentence[end:]\n",
    "    return sentence\n",
    "\n",
    "# Example function to 'correct' sentences (placeholder for actual correction logic)\n",
    "def correct_sentence(sentence):\n",
    "    original_sentence = sentence\n",
    "    edit = client.edits(original_sentence)\n",
    "    json_edit = json.dumps(edit, indent=2)\n",
    "    json_edit1 = json.loads(json_edit)\n",
    "    corrected_sentence = apply_edits(original_sentence, json_edit1['edits'])\n",
    "    return corrected_sentence\n",
    "\n",
    "# Function to compare corrected sentences with target sentences and calculate accuracy\n",
    "def compare_sentences_and_calculate_accuracy(corrected_sentences, target_sentences):\n",
    "    correct_matches = sum(1 for corrected, target in zip(corrected_sentences, target_sentences) if corrected == target)\n",
    "    accuracy = correct_matches / len(target_sentences) if target_sentences else 0\n",
    "    return accuracy\n",
    "\n",
    "# Main process\n",
    "input_csv_path = '/home/seebase/CS4248/Project/ABC_train_gold_bea19_300samples_copy.csv'  # Path to your input CSV file\n",
    "output_csv_path = '/home/seebase/CS4248/Project/ABC_train_gold_bea19_300samples_API.csv'  # Path to your output CSV file\n",
    "\n",
    "# Read sentences from CSV\n",
    "sentences = read_incorrect_sentences_from_csv(input_csv_path)\n",
    "print(\"csv read\")\n",
    "corrected_sentences = []\n",
    "\n",
    "# Correct sentences and store them\n",
    "for incorrect_sentence, target_sentence in sentences:\n",
    "    corrected = correct_sentence(incorrect_sentence)\n",
    "    print(corrected)\n",
    "    corrected_sentences.append((target_sentence, corrected))\n",
    "\n",
    "# Write corrected sentences to another CSV\n",
    "write_corrected_sentences_to_csv(output_csv_path, corrected_sentences)\n",
    "\n",
    "# # Calculate accuracy\n",
    "# accuracy = compare_sentences_and_calculate_accuracy([corrected for _, corrected in corrected_sentences], [target for _, target in sentences])\n",
    "# print(f\"Accuracy: {accuracy*100:.2f}%\")\n"
   ]
  },
  {
   "cell_type": "code",
   "execution_count": 12,
   "metadata": {},
   "outputs": [],
   "source": [
    "write_corrected_sentences_to_csv(output_csv_path, corrected_sentences)"
   ]
  },
  {
   "cell_type": "code",
   "execution_count": 5,
   "metadata": {},
   "outputs": [
    {
     "name": "stdout",
     "output_type": "stream",
     "text": [
      "Collecting python-Levenshtein\n",
      "  Downloading python_Levenshtein-0.25.0-py3-none-any.whl.metadata (3.7 kB)\n",
      "Collecting Levenshtein==0.25.0 (from python-Levenshtein)\n",
      "  Downloading Levenshtein-0.25.0-cp310-cp310-manylinux_2_17_x86_64.manylinux2014_x86_64.whl.metadata (3.3 kB)\n",
      "Collecting rapidfuzz<4.0.0,>=3.1.0 (from Levenshtein==0.25.0->python-Levenshtein)\n",
      "  Downloading rapidfuzz-3.6.1-cp310-cp310-manylinux_2_17_x86_64.manylinux2014_x86_64.whl.metadata (11 kB)\n",
      "Downloading python_Levenshtein-0.25.0-py3-none-any.whl (9.4 kB)\n",
      "Downloading Levenshtein-0.25.0-cp310-cp310-manylinux_2_17_x86_64.manylinux2014_x86_64.whl (177 kB)\n",
      "\u001b[2K   \u001b[90m━━━━━━━━━━━━━━━━━━━━━━━━━━━━━━━━━━━━━━━━\u001b[0m \u001b[32m177.4/177.4 kB\u001b[0m \u001b[31m4.7 MB/s\u001b[0m eta \u001b[36m0:00:00\u001b[0m00:01\u001b[0m\n",
      "\u001b[?25hDownloading rapidfuzz-3.6.1-cp310-cp310-manylinux_2_17_x86_64.manylinux2014_x86_64.whl (3.4 MB)\n",
      "\u001b[2K   \u001b[90m━━━━━━━━━━━━━━━━━━━━━━━━━━━━━━━━━━━━━━━━\u001b[0m \u001b[32m3.4/3.4 MB\u001b[0m \u001b[31m8.6 MB/s\u001b[0m eta \u001b[36m0:00:00\u001b[0m00:01\u001b[0m00:01\u001b[0m\n",
      "\u001b[?25hInstalling collected packages: rapidfuzz, Levenshtein, python-Levenshtein\n",
      "Successfully installed Levenshtein-0.25.0 python-Levenshtein-0.25.0 rapidfuzz-3.6.1\n",
      "Note: you may need to restart the kernel to use updated packages.\n",
      "Collecting jiwer\n",
      "  Downloading jiwer-3.0.3-py3-none-any.whl.metadata (2.6 kB)\n",
      "Requirement already satisfied: click<9.0.0,>=8.1.3 in /home/seebase/CS4248/.venv/lib/python3.10/site-packages (from jiwer) (8.1.7)\n",
      "Requirement already satisfied: rapidfuzz<4,>=3 in /home/seebase/CS4248/.venv/lib/python3.10/site-packages (from jiwer) (3.6.1)\n",
      "Downloading jiwer-3.0.3-py3-none-any.whl (21 kB)\n",
      "Installing collected packages: jiwer\n",
      "Successfully installed jiwer-3.0.3\n",
      "Note: you may need to restart the kernel to use updated packages.\n",
      "Collecting rouge\n",
      "  Downloading rouge-1.0.1-py3-none-any.whl.metadata (4.1 kB)\n",
      "Requirement already satisfied: six in /home/seebase/CS4248/.venv/lib/python3.10/site-packages (from rouge) (1.16.0)\n",
      "Downloading rouge-1.0.1-py3-none-any.whl (13 kB)\n",
      "Installing collected packages: rouge\n",
      "Successfully installed rouge-1.0.1\n",
      "Note: you may need to restart the kernel to use updated packages.\n"
     ]
    }
   ],
   "source": [
    "%pip install python-Levenshtein\n",
    "%pip install jiwer\n",
    "%pip install rouge"
   ]
  },
  {
   "cell_type": "code",
   "execution_count": 14,
   "metadata": {},
   "outputs": [
    {
     "name": "stdout",
     "output_type": "stream",
     "text": [
      "Exact Match Accuracy: 0.425\n",
      "Average Levenshtein Distance: 4.625\n",
      "Average Word Error Rate: 0.15827364349841094\n",
      "ROUGE Scores: {'rouge-1': {'r': 0.9247471381849156, 'p': 0.8974208878153755, 'f': 0.9092494837395698}, 'rouge-2': {'r': 0.8269105259454615, 'p': 0.8020271517991269, 'f': 0.813361707828952}, 'rouge-l': {'r': 0.9238500089983127, 'p': 0.8965725315057256, 'f': 0.9083774724878116}}\n"
     ]
    }
   ],
   "source": [
    "import csv\n",
    "import numpy as np\n",
    "from Levenshtein import distance as levenshtein_distance\n",
    "from jiwer import wer\n",
    "from rouge import Rouge\n",
    "\n",
    "# Function to read sentences from a CSV file\n",
    "def read_sentences_from_csv(file_path):\n",
    "    with open(file_path, newline='', encoding='utf-8') as csvfile:\n",
    "        reader = csv.DictReader(csvfile)\n",
    "        target_sentences = []\n",
    "        correct_sentences = []\n",
    "        for row in reader:\n",
    "            target_sentences.append(row['Target Sentence'])\n",
    "            correct_sentences.append(row['Corrected Sentence'])\n",
    "    return target_sentences, correct_sentences\n",
    "\n",
    "# Compute Exact Match Accuracy\n",
    "def exact_match_accuracy(targets, corrects):\n",
    "    exact_matches = [1 for target, correct in zip(targets, corrects) if target == correct]\n",
    "    return sum(exact_matches) / len(targets)\n",
    "\n",
    "# Calculate Levenshtein Distance\n",
    "def average_levenshtein_distance(targets, corrects):\n",
    "    distances = [levenshtein_distance(target, correct) for target, correct in zip(targets, corrects)]\n",
    "    return np.mean(distances)\n",
    "\n",
    "# Determine Word Error Rate\n",
    "def average_wer(targets, corrects):\n",
    "    error_rates = [wer(correct, target) for target, correct in zip(targets, corrects)]\n",
    "    return np.mean(error_rates)\n",
    "\n",
    "# Compute ROUGE Score\n",
    "def compute_rouge(targets, corrects):\n",
    "    rouge = Rouge()\n",
    "    scores = rouge.get_scores(targets, corrects, avg=True)\n",
    "    return scores\n",
    "\n",
    "# Main function to compute metrics\n",
    "def main(csv_file_path):\n",
    "    target_sentences, correct_sentences = read_sentences_from_csv(csv_file_path)\n",
    "    \n",
    "    exact_match = exact_match_accuracy(target_sentences, correct_sentences)\n",
    "    levenshtein_dist = average_levenshtein_distance(target_sentences, correct_sentences)\n",
    "    word_error_rate = average_wer(target_sentences, correct_sentences)\n",
    "    rouge_scores = compute_rouge(target_sentences, correct_sentences)\n",
    "    \n",
    "    print(f\"Exact Match Accuracy: {exact_match}\")\n",
    "    print(f\"Average Levenshtein Distance: {levenshtein_dist}\")\n",
    "    print(f\"Average Word Error Rate: {word_error_rate}\")\n",
    "    print(\"ROUGE Scores:\", rouge_scores)\n",
    "\n",
    "# Replace 'sentences.csv' with the path to your actual CSV file\n",
    "main('/home/seebase/CS4248/Project/ABC_train_gold_bea19_300samples_API.csv')"
   ]
  }
 ],
 "metadata": {
  "kernelspec": {
   "display_name": ".venv",
   "language": "python",
   "name": "python3"
  },
  "language_info": {
   "codemirror_mode": {
    "name": "ipython",
    "version": 3
   },
   "file_extension": ".py",
   "mimetype": "text/x-python",
   "name": "python",
   "nbconvert_exporter": "python",
   "pygments_lexer": "ipython3",
   "version": "3.10.12"
  }
 },
 "nbformat": 4,
 "nbformat_minor": 2
}
