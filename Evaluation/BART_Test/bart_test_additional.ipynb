{
 "cells": [
  {
   "cell_type": "code",
   "execution_count": 10,
   "metadata": {},
   "outputs": [],
   "source": [
    "from transformers import BartTokenizer, BartForConditionalGeneration\n",
    "import torch \n",
    "\n",
    "# Model params in additional folder for additional model\n",
    "# new_model = BartForConditionalGeneration.from_pretrained(\"./additional/\")\n",
    "\n",
    "# Model params in original folder for original model\n",
    "# new_model = BartForConditionalGeneration.from_pretrained(\"./original\")\n",
    "\n",
    "new_model = BartForConditionalGeneration.from_pretrained(\"./test\")"
   ]
  },
  {
   "cell_type": "code",
   "execution_count": 11,
   "metadata": {},
   "outputs": [],
   "source": [
    "def bart_correct(tokenizer, model, text: str, max_length: int = 128):\n",
    "    import numpy as np\n",
    "    text = \"< \" + text\n",
    "    inputs = tokenizer(text, return_tensors='pt')\n",
    "\n",
    "    input_ids = inputs['input_ids'][:, :max_length]\n",
    "    attention_mask = inputs['attention_mask'][:, :max_length]\n",
    "\n",
    "    model.eval()\n",
    "    with torch.no_grad():\n",
    "        logits = model(input_ids, attention_mask=attention_mask).logits\n",
    "\n",
    "        predicted_token_indexes = torch.argmax(logits, dim=-1)\n",
    "\n",
    "        decode_tokens = tokenizer.decode(predicted_token_indexes[0], skip_special_tokens=True)\n",
    "\n",
    "        decode_tokens = decode_tokens.strip()\n",
    "\n",
    "    return decode_tokens"
   ]
  },
  {
   "cell_type": "code",
   "execution_count": 12,
   "metadata": {},
   "outputs": [
    {
     "data": {
      "text/plain": [
       "'He is a nice person.'"
      ]
     },
     "execution_count": 12,
     "metadata": {},
     "output_type": "execute_result"
    }
   ],
   "source": [
    "tokenizer = BartTokenizer.from_pretrained(\"facebook/bart-base\")\n",
    "bart_correct(tokenizer, new_model, \"He are a nice person.\", 128)"
   ]
  },
  {
   "cell_type": "code",
   "execution_count": 13,
   "metadata": {},
   "outputs": [
    {
     "name": "stdout",
     "output_type": "stream",
     "text": [
      "4384\n"
     ]
    }
   ],
   "source": [
    "f = open('../ABCN_dev.src')\n",
    "orig_sentences = f.readlines()\n",
    "\n",
    "print(len(orig_sentences))"
   ]
  },
  {
   "cell_type": "code",
   "execution_count": 14,
   "metadata": {},
   "outputs": [
    {
     "name": "stderr",
     "output_type": "stream",
     "text": [
      "100%|██████████| 4384/4384 [08:09<00:00,  8.96it/s]\n"
     ]
    }
   ],
   "source": [
    "from tqdm import tqdm\n",
    "from nltk.tokenize import wordpunct_tokenize\n",
    "import spacy \n",
    "\n",
    "nlp = spacy.load(\"en_core_web_sm\") \n",
    "f = open(\"bart_prefix_original_data.txt\", 'w')\n",
    "def generate_result():\n",
    "    for i in tqdm(range(len(orig_sentences))):\n",
    "        pred = bart_correct(tokenizer, new_model, orig_sentences[i], 128)\n",
    "        tokens = nlp(pred)\n",
    "        for token in tokens:\n",
    "            f.write(str(token) + \" \")\n",
    "        \n",
    "        f.write(\"\\n\")\n",
    "\n",
    "generate_result()\n",
    "f.close()"
   ]
  }
 ],
 "metadata": {
  "kernelspec": {
   "display_name": "Python 3",
   "language": "python",
   "name": "python3"
  },
  "language_info": {
   "codemirror_mode": {
    "name": "ipython",
    "version": 3
   },
   "file_extension": ".py",
   "mimetype": "text/x-python",
   "name": "python",
   "nbconvert_exporter": "python",
   "pygments_lexer": "ipython3",
   "version": "3.12.2"
  }
 },
 "nbformat": 4,
 "nbformat_minor": 2
}
