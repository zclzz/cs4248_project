{
  "cells": [
    {
      "cell_type": "code",
      "execution_count": 1,
      "metadata": {},
      "outputs": [],
      "source": [
        "# %pip install pandas"
      ]
    },
    {
      "cell_type": "code",
      "execution_count": 2,
      "metadata": {
        "id": "kVkQR5xMAXWJ"
      },
      "outputs": [],
      "source": [
        "import pandas as pd"
      ]
    },
    {
      "cell_type": "markdown",
      "metadata": {
        "id": "W37FujZJ-25N"
      },
      "source": [
        "below code snippet is taken from: <br> https://gist.github.com/mridul1012/9867d3b5dc77e0f12d5568b47b7ff9a2#file-m2_to_csv-py\n",
        "  https://www.cl.cam.ac.uk/research/nl/bea2019st/data/corr_from_m2.py"
      ]
    },
    {
      "cell_type": "code",
      "execution_count": 3,
      "metadata": {
        "id": "zp9CMtHjNwDz"
      },
      "outputs": [],
      "source": [
        "def process_m2file(m2_file, out_file, id=0):\n",
        "\n",
        "  \"\"\"\n",
        "  This function used to convert .m2 file to .txt file. \n",
        "  This functions return dataframe with correct, incorrect, total_edits \n",
        "\n",
        "  Arguments:\n",
        "  m2_file: path to .m2 file\n",
        "  out: path to .txt file\n",
        "  id: Annotator id\n",
        "\n",
        "  converts specified annotators text from erroneous to non-erroneous\n",
        "  \"\"\"\n",
        "  \n",
        "  m2 = open(m2_file).read().strip().split(\"\\n\\n\")\n",
        "  out = open(out_file, \"w\")\n",
        "  # Do not apply edits with these error types\n",
        "  skip = {\"noop\", \"UNK\", \"Um\"}\n",
        "  total_edits = []\n",
        "  \n",
        "  for sent in m2:\n",
        "    sent = sent.split(\"\\n\")\n",
        "    cor_sent = sent[0].split()[1:] # Ignore \"S \"\n",
        "    edits = sent[1:]\n",
        "    offset = 0\n",
        "    cur_edit = 0\n",
        "    for edit in edits:\n",
        "      edit = edit.split(\"|||\")\n",
        "      if edit[1] in skip: continue # Ignore certain edits\n",
        "      coder = int(edit[-1])\n",
        "      if coder != id: continue # Ignore other coders\n",
        "      span = edit[0].split()[1:] # Ignore \"A \"\n",
        "      start = int(span[0])\n",
        "      end = int(span[1])\n",
        "      cor = edit[2].split()\n",
        "      cor_sent[start+offset:end+offset] = cor\n",
        "      cur_edit+=1\n",
        "      offset = offset-(end-start)+len(cor)\n",
        "    total_edits.append(cur_edit)\n",
        "    out.write(\" \".join(cor_sent)+\"\\n\")\n",
        "  out.close()\n",
        "\n",
        "  file1 = open(m2_file,\"r\")\n",
        "  s1 = file1.read()\n",
        "\n",
        "  each_sent = s1.split(\"\\n\\n\")\n",
        "\n",
        "  incorrect = []\n",
        "  for i in range(len(each_sent)):\n",
        "      temp = each_sent[i].split(\"\\n\")\n",
        "      temp = temp[0]\n",
        "      temp = temp.split(\" \")\n",
        "      temp = temp[1:]# ignore S\n",
        "      temp = ' '.join(temp)\n",
        "      incorrect.append(temp)\n",
        "      \n",
        "  #preprocessing correct sentences\n",
        "\n",
        "  file2 = open(out_file, \"r\")\n",
        "  s2 = file2.read()\n",
        "\n",
        "  correct = s2.split(\"\\n\")\n",
        "\n",
        "  print(\"Preparing dataframe\")\n",
        "  df = pd.DataFrame()\n",
        "  df[\"correct\"] = correct\n",
        "  df[\"incorrect\"] = incorrect\n",
        "  total_edits.append(0)\n",
        "  df['total_edits'] = total_edits\n",
        "\n",
        "  return df"
      ]
    },
    {
      "cell_type": "markdown",
      "metadata": {
        "id": "MxJo2UDQXeTq"
      },
      "source": [
        "## Extracting data from Annatator 0"
      ]
    },
    {
      "cell_type": "code",
      "execution_count": 4,
      "metadata": {
        "id": "OhcTb-JnSQpd"
      },
      "outputs": [
        {
          "name": "stdout",
          "output_type": "stream",
          "text": [
            "Preparing dataframe\n"
          ]
        }
      ],
      "source": [
        "data_id0 = process_m2file(m2_file='/home/seebase/CS4248/Project/ABC.train.gold.bea19.300samples.m2',\n",
        "                      out_file='/home/seebase/CS4248/Project/ABC_train_gold_bea19_300samples_corrected_sentences.txt',\n",
        "                      id=0)"
      ]
    },
    {
      "cell_type": "code",
      "execution_count": 5,
      "metadata": {
        "colab": {
          "base_uri": "https://localhost:8080/"
        },
        "id": "cMDbZR5qV2If",
        "outputId": "2556ed98-d83e-4ef7-8535-ca886c9bc05a"
      },
      "outputs": [
        {
          "data": {
            "text/plain": [
              "(301, 3)"
            ]
          },
          "execution_count": 5,
          "metadata": {},
          "output_type": "execute_result"
        }
      ],
      "source": [
        "data_id0.shape"
      ]
    },
    {
      "cell_type": "code",
      "execution_count": 6,
      "metadata": {
        "id": "LxBlixXAW2oS"
      },
      "outputs": [],
      "source": [
        "#save dataframe\n",
        "data_id0.to_csv('/home/seebase/CS4248/Project/ABC_train_gold_bea19_300samples.csv', index=False)"
      ]
    }
  ],
  "metadata": {
    "colab": {
      "collapsed_sections": [],
      "name": "GEC_data_collection.ipynb",
      "provenance": [],
      "toc_visible": true
    },
    "kernelspec": {
      "display_name": "Python 3",
      "name": "python3"
    },
    "language_info": {
      "codemirror_mode": {
        "name": "ipython",
        "version": 3
      },
      "file_extension": ".py",
      "mimetype": "text/x-python",
      "name": "python",
      "nbconvert_exporter": "python",
      "pygments_lexer": "ipython3",
      "version": "3.10.12"
    }
  },
  "nbformat": 4,
  "nbformat_minor": 0
}
