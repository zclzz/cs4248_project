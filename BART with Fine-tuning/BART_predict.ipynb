{
 "cells": [
  {
   "cell_type": "code",
   "execution_count": 4,
   "id": "ea2f4ebc-7ef6-4651-a16c-a6c882b1bbc3",
   "metadata": {},
   "outputs": [],
   "source": [
    "from transformers import BartTokenizer, BartForConditionalGeneration\n",
    "import torch\n",
    "\n",
    "tokenizer = BartTokenizer.from_pretrained(\"facebook/bart-base\")\n",
    "model = BartForConditionalGeneration.from_pretrained(\"./bart_model/\")"
   ]
  },
  {
   "cell_type": "code",
   "execution_count": 2,
   "id": "4cde180f-9269-40f1-94b8-488200b70ce5",
   "metadata": {},
   "outputs": [],
   "source": [
    "def bart_correct(tokenizer, model, text: str, max_length: int = 128):\n",
    "    import numpy as np\n",
    "\n",
    "    text = \"< \" + text\n",
    "    inputs = tokenizer(text, return_tensors='pt')\n",
    "    \n",
    "    input_ids = inputs['input_ids'][:, :max_length]\n",
    "    attention_mask = inputs['attention_mask'][:, :max_length]\n",
    "    \n",
    "    model.eval()\n",
    "    with torch.no_grad():\n",
    "        logits = model(input_ids, attention_mask=attention_mask).logits\n",
    "        \n",
    "        predicted_token_indexes = torch.argmax(logits, dim=-1)\n",
    "        \n",
    "        decode_tokens = tokenizer.decode(predicted_token_indexes[0], skip_special_tokens=True)\n",
    "        \n",
    "        decode_tokens = decode_tokens.strip()\n",
    "        \n",
    "    return decode_tokens"
   ]
  },
  {
   "cell_type": "code",
   "execution_count": 5,
   "id": "18bb2bda-4291-4e21-b307-d34884bfdbce",
   "metadata": {},
   "outputs": [
    {
     "data": {
      "text/plain": [
       "'He is a nice person.'"
      ]
     },
     "execution_count": 5,
     "metadata": {},
     "output_type": "execute_result"
    }
   ],
   "source": [
    "bart_correct(tokenizer, model, \"He are a nice person.\", 128)"
   ]
  },
  {
   "cell_type": "code",
   "execution_count": null,
   "id": "02eefb05-8a7e-4a69-b4b2-edbec5c7881d",
   "metadata": {},
   "outputs": [],
   "source": []
  }
 ],
 "metadata": {
  "kernelspec": {
   "display_name": "Python 3 (ipykernel)",
   "language": "python",
   "name": "python3"
  },
  "language_info": {
   "codemirror_mode": {
    "name": "ipython",
    "version": 3
   },
   "file_extension": ".py",
   "mimetype": "text/x-python",
   "name": "python",
   "nbconvert_exporter": "python",
   "pygments_lexer": "ipython3",
   "version": "3.11.3"
  }
 },
 "nbformat": 4,
 "nbformat_minor": 5
}
