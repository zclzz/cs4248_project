{
 "cells": [
  {
   "cell_type": "markdown",
   "metadata": {
    "id": "UQKZq4O8yTUD"
   },
   "source": [
    "## Import Libraries"
   ]
  },
  {
   "cell_type": "code",
   "execution_count": 42,
   "metadata": {
    "executionInfo": {
     "elapsed": 1712,
     "status": "ok",
     "timestamp": 1635516063000,
     "user": {
      "displayName": "Rohan Sawant",
      "photoUrl": "https://lh3.googleusercontent.com/a-/AOh14Gjtxl3WLKLbZ5E1Tx7xWJhVsLDUVq_8IKKl-t4jWQ=s64",
      "userId": "08512062062939018513"
     },
     "user_tz": -330
    },
    "id": "mHKINILqgUfp"
   },
   "outputs": [],
   "source": [
    "import pandas as pd\n",
    "from tqdm import tqdm\n",
    "import numpy as np"
   ]
  },
  {
   "cell_type": "markdown",
   "metadata": {
    "id": "bJ_KHZ3gydQM"
   },
   "source": [
    "## Master Function & convert to dataframe"
   ]
  },
  {
   "cell_type": "code",
   "execution_count": 43,
   "metadata": {
    "executionInfo": {
     "elapsed": 696,
     "status": "ok",
     "timestamp": 1635516074488,
     "user": {
      "displayName": "Rohan Sawant",
      "photoUrl": "https://lh3.googleusercontent.com/a-/AOh14Gjtxl3WLKLbZ5E1Tx7xWJhVsLDUVq_8IKKl-t4jWQ=s64",
      "userId": "08512062062939018513"
     },
     "user_tz": -330
    },
    "id": "4zzr12B6txpi"
   },
   "outputs": [],
   "source": [
    "#https://www.cl.cam.ac.uk/research/nl/bea2019st/data/corr_from_m2.py\n",
    "def m2_to_df(m2_file_path,id=0):\n",
    "    '''This function takes m2 file path as input and converts it to pandas dataframe'''\n",
    "\n",
    "    m2 = open(m2_file_path, encoding='utf-8').read().strip().split(\"\\n\\n\")\n",
    "    # Do not apply edits with these error types\n",
    "    skip = {\"noop\", \"UNK\", \"Um\"}\n",
    "\n",
    "    correct_sent_array = []\n",
    "    incorrect_sent_array = []\n",
    "\n",
    "    for sent in tqdm(m2):\n",
    "        sent = sent.split(\"\\n\")\n",
    "        incor_sent = sent[0].split()[1:] # Ignore \"S \"\n",
    "        incorrect_sent_array.append(str(' '.join(incor_sent))) \n",
    "        cor_sent = incor_sent.copy()\n",
    "\n",
    "        edits = sent[1:]\n",
    "        offset = 0\n",
    "        for edit in edits:\n",
    "            edit = edit.split(\"|||\")\n",
    "            if edit[1] in skip: continue # Ignore certain edits\n",
    "            coder = int(edit[-1])\n",
    "            if coder != id: continue # Ignore other coders\n",
    "            span = edit[0].split()[1:] # Ignore \"A \"\n",
    "            start = int(span[0])\n",
    "            end = int(span[1])\n",
    "            cor = edit[2].split()\n",
    "            cor_sent[start+offset:end+offset] = cor\n",
    "            offset = offset-(end-start)+len(cor)\n",
    "        correct_sent_array.append(str(' '.join(cor_sent)))\n",
    "\n",
    "    df = pd.DataFrame()\n",
    "    df[\"correct\"] = correct_sent_array\n",
    "    df[\"incorrect\"] = incorrect_sent_array\n",
    "    return df"
   ]
  },
  {
   "cell_type": "code",
   "execution_count": 44,
   "metadata": {
    "colab": {
     "base_uri": "https://localhost:8080/"
    },
    "executionInfo": {
     "elapsed": 11838,
     "status": "ok",
     "timestamp": 1635516089840,
     "user": {
      "displayName": "Rohan Sawant",
      "photoUrl": "https://lh3.googleusercontent.com/a-/AOh14Gjtxl3WLKLbZ5E1Tx7xWJhVsLDUVq_8IKKl-t4jWQ=s64",
      "userId": "08512062062939018513"
     },
     "user_tz": -330
    },
    "id": "IaDJU7_Sh_7p",
    "outputId": "24cdb85f-6b2c-46f1-9fe4-f1f2b96043b3"
   },
   "outputs": [
    {
     "name": "stderr",
     "output_type": "stream",
     "text": [
      "100%|████████████████████████████████████████████████████████████████████████| 34308/34308 [00:00<00:00, 253168.48it/s]\n"
     ]
    }
   ],
   "source": [
    "m2_file_path = 'data\\ABC.train.gold.bea19.m2'\n",
    "final_df = m2_to_df(m2_file_path)"
   ]
  },
  {
   "cell_type": "markdown",
   "metadata": {
    "id": "7UELXvJFykSg"
   },
   "source": [
    "## Check data"
   ]
  },
  {
   "cell_type": "code",
   "execution_count": 45,
   "metadata": {
    "colab": {
     "base_uri": "https://localhost:8080/",
     "height": 203
    },
    "executionInfo": {
     "elapsed": 40,
     "status": "ok",
     "timestamp": 1635359457703,
     "user": {
      "displayName": "Rohan Sawant",
      "photoUrl": "https://lh3.googleusercontent.com/a-/AOh14Gjtxl3WLKLbZ5E1Tx7xWJhVsLDUVq_8IKKl-t4jWQ=s64",
      "userId": "08512062062939018513"
     },
     "user_tz": -330
    },
    "id": "sFHZUNlIwyll",
    "outputId": "51992832-0170-40d2-c237-b0d2776517b8"
   },
   "outputs": [
    {
     "data": {
      "text/html": [
       "<div>\n",
       "<style scoped>\n",
       "    .dataframe tbody tr th:only-of-type {\n",
       "        vertical-align: middle;\n",
       "    }\n",
       "\n",
       "    .dataframe tbody tr th {\n",
       "        vertical-align: top;\n",
       "    }\n",
       "\n",
       "    .dataframe thead th {\n",
       "        text-align: right;\n",
       "    }\n",
       "</style>\n",
       "<table border=\"1\" class=\"dataframe\">\n",
       "  <thead>\n",
       "    <tr style=\"text-align: right;\">\n",
       "      <th></th>\n",
       "      <th>correct</th>\n",
       "      <th>incorrect</th>\n",
       "    </tr>\n",
       "  </thead>\n",
       "  <tbody>\n",
       "    <tr>\n",
       "      <th>2762</th>\n",
       "      <td>Hongdae is most appropriate to feel a free and...</td>\n",
       "      <td>Hongdae is most appropriate to feel free and v...</td>\n",
       "    </tr>\n",
       "    <tr>\n",
       "      <th>11494</th>\n",
       "      <td>Write to me as soon as possible .</td>\n",
       "      <td>Write to me as soon as possible .</td>\n",
       "    </tr>\n",
       "    <tr>\n",
       "      <th>7613</th>\n",
       "      <td>The Great Wall is a great military constructio...</td>\n",
       "      <td>Great Wall is a great military construction in...</td>\n",
       "    </tr>\n",
       "    <tr>\n",
       "      <th>13039</th>\n",
       "      <td>At that moment , my dog was playing with a bal...</td>\n",
       "      <td>At that moment , my dog was kidding with a bal...</td>\n",
       "    </tr>\n",
       "    <tr>\n",
       "      <th>24087</th>\n",
       "      <td>I am a qualified first aider and I am able to ...</td>\n",
       "      <td>I am a qualified first aider and I am able to ...</td>\n",
       "    </tr>\n",
       "  </tbody>\n",
       "</table>\n",
       "</div>"
      ],
      "text/plain": [
       "                                                 correct   \n",
       "2762   Hongdae is most appropriate to feel a free and...  \\\n",
       "11494                  Write to me as soon as possible .   \n",
       "7613   The Great Wall is a great military constructio...   \n",
       "13039  At that moment , my dog was playing with a bal...   \n",
       "24087  I am a qualified first aider and I am able to ...   \n",
       "\n",
       "                                               incorrect  \n",
       "2762   Hongdae is most appropriate to feel free and v...  \n",
       "11494                  Write to me as soon as possible .  \n",
       "7613   Great Wall is a great military construction in...  \n",
       "13039  At that moment , my dog was kidding with a bal...  \n",
       "24087  I am a qualified first aider and I am able to ...  "
      ]
     },
     "execution_count": 45,
     "metadata": {},
     "output_type": "execute_result"
    }
   ],
   "source": [
    "final_df.sample(5)"
   ]
  },
  {
   "cell_type": "code",
   "execution_count": 46,
   "metadata": {
    "id": "SIJB5oh3ynWh"
   },
   "outputs": [],
   "source": [
    "def show_random_datapoints(n_samples,df):\n",
    "    for i in range(n_samples):\n",
    "        id = int(np.random.uniform(0,len(df)))\n",
    "\n",
    "        if len(df['correct'].iloc[id].split())>5 and df['correct'].iloc[id] != df['incorrect'].iloc[id]:\n",
    "            print(f\"CORRE: {df['correct'].iloc[id]}\")\n",
    "            print(f\"INCOR: {df['incorrect'].iloc[id]}\")\n",
    "            print('*'*100)"
   ]
  },
  {
   "cell_type": "code",
   "execution_count": 47,
   "metadata": {
    "colab": {
     "base_uri": "https://localhost:8080/"
    },
    "executionInfo": {
     "elapsed": 33,
     "status": "ok",
     "timestamp": 1635359457706,
     "user": {
      "displayName": "Rohan Sawant",
      "photoUrl": "https://lh3.googleusercontent.com/a-/AOh14Gjtxl3WLKLbZ5E1Tx7xWJhVsLDUVq_8IKKl-t4jWQ=s64",
      "userId": "08512062062939018513"
     },
     "user_tz": -330
    },
    "id": "VkDFdZqWy98K",
    "outputId": "397f8f59-4d93-41c9-9b89-3ec688fff86e"
   },
   "outputs": [
    {
     "name": "stdout",
     "output_type": "stream",
     "text": [
      "CORRE: I pack my backpack , pick up my garbage bag and look around my room for one last time to make sure I have n't forgotten anything . I go downstairs and put the garbage bag into the trash bin .\n",
      "INCOR: I pack my backpack , take my garbage bag and look around my room for one last time to make sure : I do n't forget anything . I go downstairs and put the garbage bag into the trash bin .\n",
      "****************************************************************************************************\n",
      "CORRE: Inside the \" Monumento a La Bandera \" you can see historical objects about the history of Argentina , and in the underground there is the hall of honor of American Flags .\n",
      "INCOR: Inside the \" Monumento a La Bandera \" you can see historical objects about the history of Argentina , in the underground it 's the hall of honor of American Flags .\n",
      "****************************************************************************************************\n",
      "CORRE: And , of course , to add an extra activity to my CV as I usually do every summer .\n",
      "INCOR: And , of course , to add up an extra actvity to my CV as I am used to do every summer .\n",
      "****************************************************************************************************\n",
      "CORRE: But in this modern era of globalisation , global warming is one of the prime concerns of the earth .\n",
      "INCOR: But in this modern era of globalisation , global warming is one of the prime concern of the earth .\n",
      "****************************************************************************************************\n",
      "CORRE: Richardson 's methodology is fantastic and I think that there are more , and it is important that we know them , in order to be informed about this important issue .\n",
      "INCOR: Richardson 's methodology is fantastic and I think that there are more , and it is important that we know them in order to be informed about this important issue .\n",
      "****************************************************************************************************\n",
      "CORRE: Maybe we can not convince the whole world to participate in helping the environment right away , but it can begin with ourselves .\n",
      "INCOR: Maybe we can not convince the whole world participate in helping the environment right away , but it can begin with ourselves .\n",
      "****************************************************************************************************\n",
      "CORRE: The educational system would also provide a valuable basis for the world of politics , so conflicts might be prevented due to the lost language barrier with its vulnerability and risks of misunderstandings .\n",
      "INCOR: The educational system would also provide a valuable basis for the world of politics so conflicts might be prevented due to the lost language barrier with its vulnerability and risks of misunderstandings .\n",
      "****************************************************************************************************\n"
     ]
    }
   ],
   "source": [
    "show_random_datapoints(10,final_df)"
   ]
  },
  {
   "cell_type": "code",
   "execution_count": 48,
   "metadata": {
    "colab": {
     "base_uri": "https://localhost:8080/"
    },
    "executionInfo": {
     "elapsed": 27,
     "status": "ok",
     "timestamp": 1635359457707,
     "user": {
      "displayName": "Rohan Sawant",
      "photoUrl": "https://lh3.googleusercontent.com/a-/AOh14Gjtxl3WLKLbZ5E1Tx7xWJhVsLDUVq_8IKKl-t4jWQ=s64",
      "userId": "08512062062939018513"
     },
     "user_tz": -330
    },
    "id": "q3vNgm_RxjJs",
    "outputId": "28e59c4d-8f4b-4703-cfa0-b154a71a6ea4"
   },
   "outputs": [
    {
     "data": {
      "text/plain": [
       "(34308, 2)"
      ]
     },
     "execution_count": 48,
     "metadata": {},
     "output_type": "execute_result"
    }
   ],
   "source": [
    "final_df.shape"
   ]
  },
  {
   "cell_type": "code",
   "execution_count": 49,
   "metadata": {
    "executionInfo": {
     "elapsed": 6177,
     "status": "ok",
     "timestamp": 1635516104493,
     "user": {
      "displayName": "Rohan Sawant",
      "photoUrl": "https://lh3.googleusercontent.com/a-/AOh14Gjtxl3WLKLbZ5E1Tx7xWJhVsLDUVq_8IKKl-t4jWQ=s64",
      "userId": "08512062062939018513"
     },
     "user_tz": -330
    },
    "id": "q7kuNNzEw3yz"
   },
   "outputs": [],
   "source": [
    "final_df.to_csv('data\\\\final_df.csv',index=False)"
   ]
  },
  {
   "cell_type": "code",
   "execution_count": null,
   "metadata": {},
   "outputs": [],
   "source": []
  }
 ],
 "metadata": {
  "colab": {
   "authorship_tag": "ABX9TyOSeiMfGWPHsZWAsPszc3/u",
   "collapsed_sections": [],
   "mount_file_id": "12cEbNqoYSRnEG775wFUBUeYi6sWQPmCU",
   "name": "CS02.01 Data Extraction",
   "provenance": []
  },
  "kernelspec": {
   "display_name": "Python 3 (ipykernel)",
   "language": "python",
   "name": "python3"
  },
  "language_info": {
   "codemirror_mode": {
    "name": "ipython",
    "version": 3
   },
   "file_extension": ".py",
   "mimetype": "text/x-python",
   "name": "python",
   "nbconvert_exporter": "python",
   "pygments_lexer": "ipython3",
   "version": "3.11.3"
  }
 },
 "nbformat": 4,
 "nbformat_minor": 4
}
